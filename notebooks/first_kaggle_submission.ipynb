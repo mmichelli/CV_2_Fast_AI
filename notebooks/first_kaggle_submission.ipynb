{
 "cells": [
  {
   "cell_type": "code",
   "execution_count": 136,
   "metadata": {},
   "outputs": [],
   "source": [
    "from fastbook import *\n",
    "from fastai.vision import *\n",
    "from kaggle import api"
   ]
  },
  {
   "cell_type": "code",
   "execution_count": 2,
   "metadata": {},
   "outputs": [],
   "source": [
    "IMG_HEIGHT, IMG_WIDTH = 1400, 2100\n",
    "IMG_HEIGHT_TEST, IMG_WIDTH_TEST = 350, 525\n",
    "\n",
    "clouds_path = URLs.path('clouds')\n",
    "train_images_path = clouds_path/'train_images'\n",
    "test_img_files = get_image_files(clouds_path/'test_images')\n",
    "submissions_path = clouds_path/'submissions'\n",
    "\n",
    "df_train = pd.read_csv(Path(clouds_path/'train.csv'))"
   ]
  },
  {
   "cell_type": "code",
   "execution_count": 3,
   "metadata": {},
   "outputs": [
    {
     "data": {
      "text/html": [
       "<div>\n",
       "<style scoped>\n",
       "    .dataframe tbody tr th:only-of-type {\n",
       "        vertical-align: middle;\n",
       "    }\n",
       "\n",
       "    .dataframe tbody tr th {\n",
       "        vertical-align: top;\n",
       "    }\n",
       "\n",
       "    .dataframe thead th {\n",
       "        text-align: right;\n",
       "    }\n",
       "</style>\n",
       "<table border=\"1\" class=\"dataframe\">\n",
       "  <thead>\n",
       "    <tr style=\"text-align: right;\">\n",
       "      <th></th>\n",
       "      <th>Image_Label</th>\n",
       "      <th>EncodedPixels</th>\n",
       "    </tr>\n",
       "  </thead>\n",
       "  <tbody>\n",
       "    <tr>\n",
       "      <th>0</th>\n",
       "      <td>0011165.jpg_Fish</td>\n",
       "      <td>264918 937 266318 937 267718 937 269118 937 270518 937 271918 937 273318 937 274718 937 276118 937 277518 937 278918 937 280318 937 281718 937 283118 937 284518 937 285918 937 287318 937 288718 937 290118 937 291518 937 292918 937 294318 937 295718 937 297118 937 298518 937 299918 937 301318 937 302718 937 304118 937 305518 937 306918 937 308318 937 309718 937 311118 937 312518 937 313918 937 315318 937 316718 937 318118 937 319518 937 320918 937 322318 937 323718 937 325118 937 326518 937 327918 937 329318 937 330718 937 332118 937 333518 937 334918 937 336318 937 337718 937 339118 937 34...</td>\n",
       "    </tr>\n",
       "    <tr>\n",
       "      <th>1</th>\n",
       "      <td>0011165.jpg_Flower</td>\n",
       "      <td>1355565 1002 1356965 1002 1358365 1002 1359765 1002 1361165 1002 1362565 1002 1363965 1002 1365365 1002 1366765 1002 1368165 1002 1369565 1002 1370965 1002 1372365 1002 1373765 1002 1375165 1002 1376565 1002 1377965 1002 1379365 1002 1380765 1002 1382165 1002 1383565 1002 1384965 1002 1386365 1002 1387765 1002 1389165 1002 1390565 1002 1391965 1002 1393365 1002 1394765 1002 1396165 1002 1397565 1002 1398965 1002 1400365 1002 1401765 1002 1403165 1002 1404565 1002 1405965 1002 1407365 1002 1408765 1002 1410165 1002 1411565 1002 1412965 1002 1414365 1002 1415765 1002 1417165 1002 1418565 100...</td>\n",
       "    </tr>\n",
       "    <tr>\n",
       "      <th>2</th>\n",
       "      <td>0011165.jpg_Gravel</td>\n",
       "      <td>NaN</td>\n",
       "    </tr>\n",
       "    <tr>\n",
       "      <th>3</th>\n",
       "      <td>0011165.jpg_Sugar</td>\n",
       "      <td>NaN</td>\n",
       "    </tr>\n",
       "    <tr>\n",
       "      <th>4</th>\n",
       "      <td>002be4f.jpg_Fish</td>\n",
       "      <td>233813 878 235213 878 236613 878 238010 881 239410 881 240810 881 242210 881 243610 881 245010 881 246410 881 247810 881 249210 881 250610 881 252010 881 253410 881 254810 881 256210 881 257610 881 259010 881 260410 881 261810 881 263210 881 264610 881 266010 881 267410 881 268810 881 270210 881 271610 881 273010 881 274410 881 275810 881 277210 881 278610 881 280010 881 281410 881 282810 881 284210 881 285610 881 287010 881 288410 881 289810 881 291210 881 292610 881 294010 881 295410 881 296810 881 298210 881 299610 881 301010 881 302410 881 303810 881 305210 881 306610 881 308010 881 30...</td>\n",
       "    </tr>\n",
       "  </tbody>\n",
       "</table>\n",
       "</div>"
      ],
      "text/plain": [
       "          Image_Label  \\\n",
       "0    0011165.jpg_Fish   \n",
       "1  0011165.jpg_Flower   \n",
       "2  0011165.jpg_Gravel   \n",
       "3   0011165.jpg_Sugar   \n",
       "4    002be4f.jpg_Fish   \n",
       "\n",
       "                                                                                                                                                                                                                                                                                                                                                                                                                                                                                                                                                                                                             EncodedPixels  \n",
       "0  264918 937 266318 937 267718 937 269118 937 270518 937 271918 937 273318 937 274718 937 276118 937 277518 937 278918 937 280318 937 281718 937 283118 937 284518 937 285918 937 287318 937 288718 937 290118 937 291518 937 292918 937 294318 937 295718 937 297118 937 298518 937 299918 937 301318 937 302718 937 304118 937 305518 937 306918 937 308318 937 309718 937 311118 937 312518 937 313918 937 315318 937 316718 937 318118 937 319518 937 320918 937 322318 937 323718 937 325118 937 326518 937 327918 937 329318 937 330718 937 332118 937 333518 937 334918 937 336318 937 337718 937 339118 937 34...  \n",
       "1  1355565 1002 1356965 1002 1358365 1002 1359765 1002 1361165 1002 1362565 1002 1363965 1002 1365365 1002 1366765 1002 1368165 1002 1369565 1002 1370965 1002 1372365 1002 1373765 1002 1375165 1002 1376565 1002 1377965 1002 1379365 1002 1380765 1002 1382165 1002 1383565 1002 1384965 1002 1386365 1002 1387765 1002 1389165 1002 1390565 1002 1391965 1002 1393365 1002 1394765 1002 1396165 1002 1397565 1002 1398965 1002 1400365 1002 1401765 1002 1403165 1002 1404565 1002 1405965 1002 1407365 1002 1408765 1002 1410165 1002 1411565 1002 1412965 1002 1414365 1002 1415765 1002 1417165 1002 1418565 100...  \n",
       "2                                                                                                                                                                                                                                                                                                                                                                                                                                                                                                                                                                                                                      NaN  \n",
       "3                                                                                                                                                                                                                                                                                                                                                                                                                                                                                                                                                                                                                      NaN  \n",
       "4  233813 878 235213 878 236613 878 238010 881 239410 881 240810 881 242210 881 243610 881 245010 881 246410 881 247810 881 249210 881 250610 881 252010 881 253410 881 254810 881 256210 881 257610 881 259010 881 260410 881 261810 881 263210 881 264610 881 266010 881 267410 881 268810 881 270210 881 271610 881 273010 881 274410 881 275810 881 277210 881 278610 881 280010 881 281410 881 282810 881 284210 881 285610 881 287010 881 288410 881 289810 881 291210 881 292610 881 294010 881 295410 881 296810 881 298210 881 299610 881 301010 881 302410 881 303810 881 305210 881 306610 881 308010 881 30...  "
      ]
     },
     "execution_count": 3,
     "metadata": {},
     "output_type": "execute_result"
    }
   ],
   "source": [
    "df_train.head()"
   ]
  },
  {
   "cell_type": "code",
   "execution_count": 4,
   "metadata": {},
   "outputs": [],
   "source": [
    "cloud_types = ['Fish', 'Flower', 'Gravel', 'Sugar']"
   ]
  },
  {
   "cell_type": "markdown",
   "metadata": {},
   "source": [
    "### Functions to load data from files"
   ]
  },
  {
   "cell_type": "code",
   "execution_count": 5,
   "metadata": {},
   "outputs": [],
   "source": [
    "def rle2mask(encoded_pixels):\n",
    "    mask = torch.zeros(IMG_HEIGHT * IMG_WIDTH, dtype=torch.uint8)\n",
    "    encoded_pixels = encoded_pixels.split()\n",
    "    \n",
    "    # - 1 if for converting one-indexed to zero-indexed pixels\n",
    "    start_pixles = [int(encoded_pixels[i]) - 1 for i in range(0, len(encoded_pixels), 2)]\n",
    "    lengths = [int(encoded_pixels[i]) for i in range(1, len(encoded_pixels), 2)]\n",
    "    \n",
    "    for start_px, length in zip(start_pixles, lengths):\n",
    "        mask[start_px:start_px + length] = 1\n",
    "    \n",
    "    return mask.reshape((IMG_WIDTH, IMG_HEIGHT)).T"
   ]
  },
  {
   "cell_type": "code",
   "execution_count": 6,
   "metadata": {},
   "outputs": [],
   "source": [
    "def get_x(row):\n",
    "    fname = row['Image_Label'].split('_')[0]\n",
    "    return train_images_path/fname"
   ]
  },
  {
   "cell_type": "code",
   "execution_count": 7,
   "metadata": {},
   "outputs": [],
   "source": [
    "def get_y(row):\n",
    "    encoded_pixels = str(row['EncodedPixels'])\n",
    "    if encoded_pixels =='nan':\n",
    "        return torch.zeros((IMG_HEIGHT, IMG_WIDTH), dtype=torch.uint8)\n",
    "    return rle2mask(encoded_pixels)"
   ]
  },
  {
   "cell_type": "markdown",
   "metadata": {},
   "source": [
    "### Train model for each cloud type"
   ]
  },
  {
   "cell_type": "code",
   "execution_count": 8,
   "metadata": {},
   "outputs": [],
   "source": [
    "splitter=RandomSplitter(seed=42)"
   ]
  },
  {
   "cell_type": "code",
   "execution_count": 9,
   "metadata": {},
   "outputs": [],
   "source": [
    "def get_learner(cloud_type):\n",
    "    df_train_one_type = df_train[df_train['Image_Label'].apply(lambda x: cloud_type in x)]\n",
    "    dblock = DataBlock(\n",
    "        blocks=(ImageBlock, MaskBlock(codes=['no_clouds', cloud_type])),\n",
    "        get_x=get_x, \n",
    "        get_y=get_y,\n",
    "        splitter=splitter,\n",
    "        item_tfms=RatioResize(IMG_WIDTH_TEST//2),\n",
    "    )\n",
    "    dls = dblock.dataloaders(df_train_one_type, bs=16)\n",
    "    return unet_learner(dls, resnet34)"
   ]
  },
  {
   "cell_type": "code",
   "execution_count": 10,
   "metadata": {},
   "outputs": [],
   "source": [
    "def train(cloud_type, save=True):\n",
    "    learn = get_learner(cloud_type)\n",
    "    learn.fine_tune(3)\n",
    "    if save:\n",
    "        learn.save(f'first_model_{cloud_type}')\n",
    "    return learn"
   ]
  },
  {
   "cell_type": "code",
   "execution_count": 11,
   "metadata": {},
   "outputs": [],
   "source": [
    "def load(cloud_type):\n",
    "    learn = get_learner(cloud_type)\n",
    "    learn = learn.load(f'first_model_{cloud_type}')\n",
    "    return learn"
   ]
  },
  {
   "cell_type": "code",
   "execution_count": 12,
   "metadata": {},
   "outputs": [
    {
     "name": "stderr",
     "output_type": "stream",
     "text": [
      "/opt/conda/envs/fastai/lib/python3.8/site-packages/torch/_tensor.py:575: UserWarning: floor_divide is deprecated, and will be removed in a future version of pytorch. It currently rounds toward 0 (like the 'trunc' function NOT 'floor'). This results in incorrect rounding for negative values.\n",
      "To keep the current behavior, use torch.div(a, b, rounding_mode='trunc'), or for actual floor division, use torch.div(a, b, rounding_mode='floor'). (Triggered internally at  /pytorch/aten/src/ATen/native/BinaryOps.cpp:467.)\n",
      "  return torch.floor_divide(self, other)\n",
      "/opt/conda/envs/fastai/lib/python3.8/site-packages/torch/nn/functional.py:718: UserWarning: Named tensors and all their associated APIs are an experimental feature and subject to change. Please do not use them for anything important until they are released as stable. (Triggered internally at  /pytorch/c10/core/TensorImpl.h:1156.)\n",
      "  return torch.max_pool2d(input, kernel_size, stride, padding, dilation, ceil_mode)\n"
     ]
    }
   ],
   "source": [
    "cloud_type_models = {cloud_type: load(cloud_type) for cloud_type in cloud_types}"
   ]
  },
  {
   "cell_type": "code",
   "execution_count": 12,
   "metadata": {},
   "outputs": [
    {
     "name": "stderr",
     "output_type": "stream",
     "text": [
      "/opt/conda/envs/fastai/lib/python3.8/site-packages/torch/_tensor.py:575: UserWarning: floor_divide is deprecated, and will be removed in a future version of pytorch. It currently rounds toward 0 (like the 'trunc' function NOT 'floor'). This results in incorrect rounding for negative values.\n",
      "To keep the current behavior, use torch.div(a, b, rounding_mode='trunc'), or for actual floor division, use torch.div(a, b, rounding_mode='floor'). (Triggered internally at  /pytorch/aten/src/ATen/native/BinaryOps.cpp:467.)\n",
      "  return torch.floor_divide(self, other)\n",
      "/opt/conda/envs/fastai/lib/python3.8/site-packages/torch/nn/functional.py:718: UserWarning: Named tensors and all their associated APIs are an experimental feature and subject to change. Please do not use them for anything important until they are released as stable. (Triggered internally at  /pytorch/c10/core/TensorImpl.h:1156.)\n",
      "  return torch.max_pool2d(input, kernel_size, stride, padding, dilation, ceil_mode)\n"
     ]
    },
    {
     "data": {
      "text/html": [
       "<table border=\"1\" class=\"dataframe\">\n",
       "  <thead>\n",
       "    <tr style=\"text-align: left;\">\n",
       "      <th>epoch</th>\n",
       "      <th>train_loss</th>\n",
       "      <th>valid_loss</th>\n",
       "      <th>time</th>\n",
       "    </tr>\n",
       "  </thead>\n",
       "  <tbody>\n",
       "    <tr>\n",
       "      <td>0</td>\n",
       "      <td>0.364374</td>\n",
       "      <td>0.334300</td>\n",
       "      <td>02:53</td>\n",
       "    </tr>\n",
       "  </tbody>\n",
       "</table>"
      ],
      "text/plain": [
       "<IPython.core.display.HTML object>"
      ]
     },
     "metadata": {},
     "output_type": "display_data"
    },
    {
     "data": {
      "text/html": [
       "<table border=\"1\" class=\"dataframe\">\n",
       "  <thead>\n",
       "    <tr style=\"text-align: left;\">\n",
       "      <th>epoch</th>\n",
       "      <th>train_loss</th>\n",
       "      <th>valid_loss</th>\n",
       "      <th>time</th>\n",
       "    </tr>\n",
       "  </thead>\n",
       "  <tbody>\n",
       "    <tr>\n",
       "      <td>0</td>\n",
       "      <td>0.337661</td>\n",
       "      <td>0.350523</td>\n",
       "      <td>03:00</td>\n",
       "    </tr>\n",
       "    <tr>\n",
       "      <td>1</td>\n",
       "      <td>0.280620</td>\n",
       "      <td>0.286822</td>\n",
       "      <td>03:00</td>\n",
       "    </tr>\n",
       "    <tr>\n",
       "      <td>2</td>\n",
       "      <td>0.180602</td>\n",
       "      <td>0.330955</td>\n",
       "      <td>02:59</td>\n",
       "    </tr>\n",
       "  </tbody>\n",
       "</table>"
      ],
      "text/plain": [
       "<IPython.core.display.HTML object>"
      ]
     },
     "metadata": {},
     "output_type": "display_data"
    },
    {
     "data": {
      "text/html": [
       "<table border=\"1\" class=\"dataframe\">\n",
       "  <thead>\n",
       "    <tr style=\"text-align: left;\">\n",
       "      <th>epoch</th>\n",
       "      <th>train_loss</th>\n",
       "      <th>valid_loss</th>\n",
       "      <th>time</th>\n",
       "    </tr>\n",
       "  </thead>\n",
       "  <tbody>\n",
       "    <tr>\n",
       "      <td>0</td>\n",
       "      <td>0.308858</td>\n",
       "      <td>0.277261</td>\n",
       "      <td>02:52</td>\n",
       "    </tr>\n",
       "  </tbody>\n",
       "</table>"
      ],
      "text/plain": [
       "<IPython.core.display.HTML object>"
      ]
     },
     "metadata": {},
     "output_type": "display_data"
    },
    {
     "data": {
      "text/html": [
       "<table border=\"1\" class=\"dataframe\">\n",
       "  <thead>\n",
       "    <tr style=\"text-align: left;\">\n",
       "      <th>epoch</th>\n",
       "      <th>train_loss</th>\n",
       "      <th>valid_loss</th>\n",
       "      <th>time</th>\n",
       "    </tr>\n",
       "  </thead>\n",
       "  <tbody>\n",
       "    <tr>\n",
       "      <td>0</td>\n",
       "      <td>0.236189</td>\n",
       "      <td>0.240275</td>\n",
       "      <td>02:59</td>\n",
       "    </tr>\n",
       "    <tr>\n",
       "      <td>1</td>\n",
       "      <td>0.196628</td>\n",
       "      <td>0.231562</td>\n",
       "      <td>02:59</td>\n",
       "    </tr>\n",
       "    <tr>\n",
       "      <td>2</td>\n",
       "      <td>0.132944</td>\n",
       "      <td>0.267327</td>\n",
       "      <td>03:01</td>\n",
       "    </tr>\n",
       "  </tbody>\n",
       "</table>"
      ],
      "text/plain": [
       "<IPython.core.display.HTML object>"
      ]
     },
     "metadata": {},
     "output_type": "display_data"
    },
    {
     "data": {
      "text/html": [
       "<table border=\"1\" class=\"dataframe\">\n",
       "  <thead>\n",
       "    <tr style=\"text-align: left;\">\n",
       "      <th>epoch</th>\n",
       "      <th>train_loss</th>\n",
       "      <th>valid_loss</th>\n",
       "      <th>time</th>\n",
       "    </tr>\n",
       "  </thead>\n",
       "  <tbody>\n",
       "    <tr>\n",
       "      <td>0</td>\n",
       "      <td>0.481592</td>\n",
       "      <td>0.407555</td>\n",
       "      <td>02:52</td>\n",
       "    </tr>\n",
       "  </tbody>\n",
       "</table>"
      ],
      "text/plain": [
       "<IPython.core.display.HTML object>"
      ]
     },
     "metadata": {},
     "output_type": "display_data"
    },
    {
     "data": {
      "text/html": [
       "<table border=\"1\" class=\"dataframe\">\n",
       "  <thead>\n",
       "    <tr style=\"text-align: left;\">\n",
       "      <th>epoch</th>\n",
       "      <th>train_loss</th>\n",
       "      <th>valid_loss</th>\n",
       "      <th>time</th>\n",
       "    </tr>\n",
       "  </thead>\n",
       "  <tbody>\n",
       "    <tr>\n",
       "      <td>0</td>\n",
       "      <td>0.328678</td>\n",
       "      <td>0.323166</td>\n",
       "      <td>03:00</td>\n",
       "    </tr>\n",
       "    <tr>\n",
       "      <td>1</td>\n",
       "      <td>0.283623</td>\n",
       "      <td>0.297906</td>\n",
       "      <td>02:59</td>\n",
       "    </tr>\n",
       "    <tr>\n",
       "      <td>2</td>\n",
       "      <td>0.210927</td>\n",
       "      <td>0.318786</td>\n",
       "      <td>03:00</td>\n",
       "    </tr>\n",
       "  </tbody>\n",
       "</table>"
      ],
      "text/plain": [
       "<IPython.core.display.HTML object>"
      ]
     },
     "metadata": {},
     "output_type": "display_data"
    },
    {
     "data": {
      "text/html": [
       "<table border=\"1\" class=\"dataframe\">\n",
       "  <thead>\n",
       "    <tr style=\"text-align: left;\">\n",
       "      <th>epoch</th>\n",
       "      <th>train_loss</th>\n",
       "      <th>valid_loss</th>\n",
       "      <th>time</th>\n",
       "    </tr>\n",
       "  </thead>\n",
       "  <tbody>\n",
       "    <tr>\n",
       "      <td>0</td>\n",
       "      <td>0.357592</td>\n",
       "      <td>0.354764</td>\n",
       "      <td>02:53</td>\n",
       "    </tr>\n",
       "  </tbody>\n",
       "</table>"
      ],
      "text/plain": [
       "<IPython.core.display.HTML object>"
      ]
     },
     "metadata": {},
     "output_type": "display_data"
    },
    {
     "data": {
      "text/html": [
       "<table border=\"1\" class=\"dataframe\">\n",
       "  <thead>\n",
       "    <tr style=\"text-align: left;\">\n",
       "      <th>epoch</th>\n",
       "      <th>train_loss</th>\n",
       "      <th>valid_loss</th>\n",
       "      <th>time</th>\n",
       "    </tr>\n",
       "  </thead>\n",
       "  <tbody>\n",
       "    <tr>\n",
       "      <td>0</td>\n",
       "      <td>0.302644</td>\n",
       "      <td>0.308183</td>\n",
       "      <td>03:00</td>\n",
       "    </tr>\n",
       "    <tr>\n",
       "      <td>1</td>\n",
       "      <td>0.279093</td>\n",
       "      <td>0.296636</td>\n",
       "      <td>03:01</td>\n",
       "    </tr>\n",
       "    <tr>\n",
       "      <td>2</td>\n",
       "      <td>0.197673</td>\n",
       "      <td>0.324008</td>\n",
       "      <td>03:01</td>\n",
       "    </tr>\n",
       "  </tbody>\n",
       "</table>"
      ],
      "text/plain": [
       "<IPython.core.display.HTML object>"
      ]
     },
     "metadata": {},
     "output_type": "display_data"
    }
   ],
   "source": [
    "cloud_type_models = {cloud_type: train(cloud_type) for cloud_type in cloud_types}"
   ]
  },
  {
   "cell_type": "markdown",
   "metadata": {},
   "source": [
    "### Get predictions for test images"
   ]
  },
  {
   "cell_type": "code",
   "execution_count": 13,
   "metadata": {},
   "outputs": [],
   "source": [
    "def mask2rle(mask):\n",
    "    mask_one_dim = torch.cat((mask.T.reshape((-1,)), tensor([0])))\n",
    "    mask_shifted = torch.cat((tensor([0]), mask_one_dim[:-1]))\n",
    "    diff = mask_one_dim - mask_shifted\n",
    "    starts = torch.where(diff == 1)[0]\n",
    "    ends = torch.where(diff == -1)[0]\n",
    "    lengths = ends - starts\n",
    "    start_pixels = starts + 1\n",
    "    encoded_pixels = itertools.chain(*zip(start_pixels.tolist(), lengths.tolist()))\n",
    "    return ' '.join(map(str, encoded_pixels))"
   ]
  },
  {
   "cell_type": "code",
   "execution_count": 14,
   "metadata": {},
   "outputs": [],
   "source": [
    "def get_test_preds(learn):\n",
    "    test_dl = learn.dls.test_dl(test_img_files)\n",
    "    preds = learn.get_preds(dl=test_dl)\n",
    "    return torch.argmax(preds[0], dim=1)"
   ]
  },
  {
   "cell_type": "code",
   "execution_count": 90,
   "metadata": {},
   "outputs": [],
   "source": [
    "def resize_to_submit_size(mask):\n",
    "    mask = PILMask.create(TensorMask(mask)).resize((IMG_WIDTH_TEST, IMG_HEIGHT_TEST))\n",
    "    return TensorMask(mask)"
   ]
  },
  {
   "cell_type": "code",
   "execution_count": 91,
   "metadata": {},
   "outputs": [],
   "source": [
    "def pred_mask2rle(pred_mask):\n",
    "    pred_mask = resize_to_submit_size(pred_mask)\n",
    "    return mask2rle(pred_mask)"
   ]
  },
  {
   "cell_type": "code",
   "execution_count": 52,
   "metadata": {
    "scrolled": true
   },
   "outputs": [
    {
     "name": "stdout",
     "output_type": "stream",
     "text": [
      "Fish\n"
     ]
    },
    {
     "data": {
      "text/html": [],
      "text/plain": [
       "<IPython.core.display.HTML object>"
      ]
     },
     "metadata": {},
     "output_type": "display_data"
    },
    {
     "name": "stdout",
     "output_type": "stream",
     "text": [
      "Flower\n"
     ]
    },
    {
     "data": {
      "text/html": [],
      "text/plain": [
       "<IPython.core.display.HTML object>"
      ]
     },
     "metadata": {},
     "output_type": "display_data"
    },
    {
     "name": "stdout",
     "output_type": "stream",
     "text": [
      "Gravel\n"
     ]
    },
    {
     "data": {
      "text/html": [],
      "text/plain": [
       "<IPython.core.display.HTML object>"
      ]
     },
     "metadata": {},
     "output_type": "display_data"
    },
    {
     "name": "stdout",
     "output_type": "stream",
     "text": [
      "Sugar\n"
     ]
    },
    {
     "data": {
      "text/html": [],
      "text/plain": [
       "<IPython.core.display.HTML object>"
      ]
     },
     "metadata": {},
     "output_type": "display_data"
    }
   ],
   "source": [
    "submission_dict = {'Image_Label': [], 'EncodedPixels': []}\n",
    "\n",
    "for cloud_type in cloud_types:\n",
    "    print(cloud_type)\n",
    "    mask_preds = get_test_preds(cloud_type_models[cloud_type])\n",
    "    for file_path, mask_pred in zip(test_img_files, mask_preds):\n",
    "        rle_pred = pred_mask2rle(mask_pred)\n",
    "        img_label = f'{file_path.name}_{cloud_type}'\n",
    "        submission_dict['EncodedPixels'].append(rle_pred)\n",
    "        submission_dict['Image_Label'].append(img_label)"
   ]
  },
  {
   "cell_type": "code",
   "execution_count": 55,
   "metadata": {},
   "outputs": [],
   "source": [
    "submission_df = pd.DataFrame(submission_dict, columns=['Image_Label', 'EncodedPixels'])"
   ]
  },
  {
   "cell_type": "code",
   "execution_count": 65,
   "metadata": {},
   "outputs": [
    {
     "data": {
      "text/html": [
       "<div>\n",
       "<style scoped>\n",
       "    .dataframe tbody tr th:only-of-type {\n",
       "        vertical-align: middle;\n",
       "    }\n",
       "\n",
       "    .dataframe tbody tr th {\n",
       "        vertical-align: top;\n",
       "    }\n",
       "\n",
       "    .dataframe thead th {\n",
       "        text-align: right;\n",
       "    }\n",
       "</style>\n",
       "<table border=\"1\" class=\"dataframe\">\n",
       "  <thead>\n",
       "    <tr style=\"text-align: right;\">\n",
       "      <th></th>\n",
       "      <th>Image_Label</th>\n",
       "      <th>EncodedPixels</th>\n",
       "    </tr>\n",
       "  </thead>\n",
       "  <tbody>\n",
       "    <tr>\n",
       "      <th>0</th>\n",
       "      <td>719307c.jpg_Fish</td>\n",
       "      <td>57 14 75 12 407 14 425 12 753 43 1103 43 1433 77 1783 77 2129 91 2479 91 2823 107 3173 107 3521 109 3871 109 4219 111 4569 111 4917 115 5267 115 5613 121 5963 121 6313 121 6663 121 7013 123 7363 123 7713 123 8063 123 8413 123 8763 123 9113 123 9463 123 9813 123 10163 123 10513 125 10863 125 11211 127 11561 127 11911 127 12261 127 12611 127 12961 127 13309 129 13659 129 14009 129 14214 4 14238 2 14359 129 14564 4 14588 2 14709 129 14914 4 14938 2 14942 6 15059 129 15264 4 15288 2 15292 6 15409 129 15610 8 15642 6 15658 7 15759 129 15960 8 15992 6 16008 7 16109 129 16310 8 16342 8 16358 7 16...</td>\n",
       "    </tr>\n",
       "    <tr>\n",
       "      <th>1</th>\n",
       "      <td>c9ac078.jpg_Fish</td>\n",
       "      <td></td>\n",
       "    </tr>\n",
       "    <tr>\n",
       "      <th>2</th>\n",
       "      <td>39c9ac1.jpg_Fish</td>\n",
       "      <td>55373 6 55385 2 55390 8 55723 6 55735 2 55740 8 56077 37 56427 37 56769 49 57119 49 57445 4 57461 61 57795 4 57811 61 58133 18 58153 2 58157 65 58483 18 58503 2 58507 65 58837 89 59187 89 59537 91 59887 91 60233 97 60583 97 60933 97 61283 97 61629 101 61979 101 62329 101 62679 101 63025 105 63375 105 63725 107 64075 107 64425 105 64775 105 65123 107 65473 107 65821 111 66171 111 66521 111 66871 111 67221 111 67571 111 67921 111 68271 111 68621 111 68971 111 69321 109 69671 109 70021 111 70371 111 70721 107 71071 107 71421 109 71771 109 72121 109 72471 109 72821 109 73171 109 73521 109 7387...</td>\n",
       "    </tr>\n",
       "    <tr>\n",
       "      <th>3</th>\n",
       "      <td>881fab1.jpg_Fish</td>\n",
       "      <td></td>\n",
       "    </tr>\n",
       "    <tr>\n",
       "      <th>4</th>\n",
       "      <td>5fa934a.jpg_Fish</td>\n",
       "      <td>40001 3 40351 3 40696 36 41046 36 41394 40 41744 40 42087 53 42437 53 42785 57 43135 57 43481 61 43831 61 44171 6 44181 61 44521 6 44531 61 44869 69 45219 69 45569 67 45919 67 46271 61 46621 61 46973 3 46979 51 47323 3 47329 51 47681 17 47704 4 47710 20 48031 17 48054 4 48060 20 48381 17 48402 28 48731 17 48752 28 49081 17 49110 2 49114 16 49431 17 49460 2 49464 16 49781 17 49806 24 50131 17 50156 24 50475 23 50510 20 50825 23 50860 20 51175 25 51210 20 51525 25 51560 20 51875 25 51910 20 52225 25 52260 20 52575 25 52612 18 52925 25 52962 18 53275 25 53314 16 53625 25 53664 16 53973 29 540...</td>\n",
       "    </tr>\n",
       "  </tbody>\n",
       "</table>\n",
       "</div>"
      ],
      "text/plain": [
       "        Image_Label  \\\n",
       "0  719307c.jpg_Fish   \n",
       "1  c9ac078.jpg_Fish   \n",
       "2  39c9ac1.jpg_Fish   \n",
       "3  881fab1.jpg_Fish   \n",
       "4  5fa934a.jpg_Fish   \n",
       "\n",
       "                                                                                                                                                                                                                                                                                                                                                                                                                                                                                                                                                                                                             EncodedPixels  \n",
       "0  57 14 75 12 407 14 425 12 753 43 1103 43 1433 77 1783 77 2129 91 2479 91 2823 107 3173 107 3521 109 3871 109 4219 111 4569 111 4917 115 5267 115 5613 121 5963 121 6313 121 6663 121 7013 123 7363 123 7713 123 8063 123 8413 123 8763 123 9113 123 9463 123 9813 123 10163 123 10513 125 10863 125 11211 127 11561 127 11911 127 12261 127 12611 127 12961 127 13309 129 13659 129 14009 129 14214 4 14238 2 14359 129 14564 4 14588 2 14709 129 14914 4 14938 2 14942 6 15059 129 15264 4 15288 2 15292 6 15409 129 15610 8 15642 6 15658 7 15759 129 15960 8 15992 6 16008 7 16109 129 16310 8 16342 8 16358 7 16...  \n",
       "1                                                                                                                                                                                                                                                                                                                                                                                                                                                                                                                                                                                                                           \n",
       "2  55373 6 55385 2 55390 8 55723 6 55735 2 55740 8 56077 37 56427 37 56769 49 57119 49 57445 4 57461 61 57795 4 57811 61 58133 18 58153 2 58157 65 58483 18 58503 2 58507 65 58837 89 59187 89 59537 91 59887 91 60233 97 60583 97 60933 97 61283 97 61629 101 61979 101 62329 101 62679 101 63025 105 63375 105 63725 107 64075 107 64425 105 64775 105 65123 107 65473 107 65821 111 66171 111 66521 111 66871 111 67221 111 67571 111 67921 111 68271 111 68621 111 68971 111 69321 109 69671 109 70021 111 70371 111 70721 107 71071 107 71421 109 71771 109 72121 109 72471 109 72821 109 73171 109 73521 109 7387...  \n",
       "3                                                                                                                                                                                                                                                                                                                                                                                                                                                                                                                                                                                                                           \n",
       "4  40001 3 40351 3 40696 36 41046 36 41394 40 41744 40 42087 53 42437 53 42785 57 43135 57 43481 61 43831 61 44171 6 44181 61 44521 6 44531 61 44869 69 45219 69 45569 67 45919 67 46271 61 46621 61 46973 3 46979 51 47323 3 47329 51 47681 17 47704 4 47710 20 48031 17 48054 4 48060 20 48381 17 48402 28 48731 17 48752 28 49081 17 49110 2 49114 16 49431 17 49460 2 49464 16 49781 17 49806 24 50131 17 50156 24 50475 23 50510 20 50825 23 50860 20 51175 25 51210 20 51525 25 51560 20 51875 25 51910 20 52225 25 52260 20 52575 25 52612 18 52925 25 52962 18 53275 25 53314 16 53625 25 53664 16 53973 29 540...  "
      ]
     },
     "execution_count": 65,
     "metadata": {},
     "output_type": "execute_result"
    }
   ],
   "source": [
    "submission_df.head()"
   ]
  },
  {
   "cell_type": "code",
   "execution_count": 131,
   "metadata": {},
   "outputs": [],
   "source": [
    "submission_df.to_csv(submissions_path/'submission.csv', index=False)"
   ]
  },
  {
   "cell_type": "code",
   "execution_count": 132,
   "metadata": {},
   "outputs": [],
   "source": [
    "import os\n",
    "kaggle_data={\"username\":\"\",\"key\":\"\"}\n",
    "os.environ['KAGGLE_USERNAME']=kaggle_data[\"username\"]\n",
    "os.environ['KAGGLE_KEY']=kaggle_data[\"key\"]"
   ]
  },
  {
   "cell_type": "code",
   "execution_count": 134,
   "metadata": {},
   "outputs": [
    {
     "name": "stdout",
     "output_type": "stream",
     "text": [
      "Traceback (most recent call last):\r\n",
      "  File \"/opt/conda/envs/fastai/bin/kaggle\", line 8, in <module>\r\n",
      "    sys.exit(main())\r\n",
      "  File \"/opt/conda/envs/fastai/lib/python3.8/site-packages/kaggle/cli.py\", line 67, in main\r\n",
      "    out = args.func(**command_args)\r\n",
      "  File \"/opt/conda/envs/fastai/lib/python3.8/site-packages/kaggle/api/kaggle_api_extended.py\", line 561, in competition_submit_cli\r\n",
      "    submit_result = self.competition_submit(file_name, message,\r\n",
      "  File \"/opt/conda/envs/fastai/lib/python3.8/site-packages/kaggle/api/kaggle_api_extended.py\", line 513, in competition_submit\r\n",
      "    content_length=os.path.getsize(file_name),\r\n",
      "  File \"/opt/conda/envs/fastai/lib/python3.8/genericpath.py\", line 50, in getsize\r\n",
      "    return os.stat(filename).st_size\r\n",
      "FileNotFoundError: [Errno 2] No such file or directory: 'submissions_path/submission.csv'\r\n"
     ]
    }
   ],
   "source": [
    "!kaggle competitions submit -c understanding_cloud_organization -f submissions_path/'submission.csv' -m \"first submission\""
   ]
  },
  {
   "cell_type": "code",
   "execution_count": 138,
   "metadata": {},
   "outputs": [
    {
     "name": "stderr",
     "output_type": "stream",
     "text": [
      "100%|██████████| 22.2M/22.2M [00:09<00:00, 2.46MB/s]\n"
     ]
    },
    {
     "data": {
      "text/plain": [
       "Successfully submitted to Understanding Clouds from Satellite Images"
      ]
     },
     "execution_count": 138,
     "metadata": {},
     "output_type": "execute_result"
    }
   ],
   "source": [
    "api.competition_submit_cli(submissions_path/'submission.csv', 'first submission', 'understanding_cloud_organization')"
   ]
  }
 ],
 "metadata": {
  "kernelspec": {
   "display_name": "Python 3",
   "language": "python",
   "name": "python3"
  },
  "language_info": {
   "codemirror_mode": {
    "name": "ipython",
    "version": 3
   },
   "file_extension": ".py",
   "mimetype": "text/x-python",
   "name": "python",
   "nbconvert_exporter": "python",
   "pygments_lexer": "ipython3",
   "version": "3.8.6"
  }
 },
 "nbformat": 4,
 "nbformat_minor": 4
}
